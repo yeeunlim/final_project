{
  "cells": [
    {
      "cell_type": "code",
      "source": [
        "from google.colab import drive\n",
        "drive.mount('/content/drive')"
      ],
      "metadata": {
        "colab": {
          "base_uri": "https://localhost:8080/"
        },
        "id": "OfAcV4W7Lbg0",
        "outputId": "c82402ab-be2a-424b-d6a1-32c1472bf4df"
      },
      "execution_count": 1,
      "outputs": [
        {
          "output_type": "stream",
          "name": "stdout",
          "text": [
            "Mounted at /content/drive\n"
          ]
        }
      ]
    },
    {
      "cell_type": "code",
      "source": [
        "cd ./drive/MyDrive/final_prj"
      ],
      "metadata": {
        "colab": {
          "base_uri": "https://localhost:8080/"
        },
        "id": "50XCY3b-MM1B",
        "outputId": "bd2242e9-19c9-4e9b-88de-500fc107dd1c"
      },
      "execution_count": 7,
      "outputs": [
        {
          "output_type": "stream",
          "name": "stdout",
          "text": [
            "/content/drive/MyDrive/final_prj\n"
          ]
        }
      ]
    },
    {
      "cell_type": "code",
      "source": [
        "!python kogpt_train.py"
      ],
      "metadata": {
        "id": "1ZURKf0jLio1"
      },
      "execution_count": null,
      "outputs": []
    },
    {
      "cell_type": "code",
      "execution_count": 9,
      "metadata": {
        "colab": {
          "base_uri": "https://localhost:8080/"
        },
        "id": "moq2P6vILZpV",
        "outputId": "417a2bcf-b241-4f66-c689-dfafbf458483"
      },
      "outputs": [
        {
          "output_type": "stream",
          "name": "stdout",
          "text": [
            "2024-05-28 03:22:19.128926: E external/local_xla/xla/stream_executor/cuda/cuda_dnn.cc:9261] Unable to register cuDNN factory: Attempting to register factory for plugin cuDNN when one has already been registered\n",
            "2024-05-28 03:22:19.129014: E external/local_xla/xla/stream_executor/cuda/cuda_fft.cc:607] Unable to register cuFFT factory: Attempting to register factory for plugin cuFFT when one has already been registered\n",
            "2024-05-28 03:22:19.132148: E external/local_xla/xla/stream_executor/cuda/cuda_blas.cc:1515] Unable to register cuBLAS factory: Attempting to register factory for plugin cuBLAS when one has already been registered\n",
            "2024-05-28 03:22:19.146724: I tensorflow/core/platform/cpu_feature_guard.cc:182] This TensorFlow binary is optimized to use available CPU instructions in performance-critical operations.\n",
            "To enable the following instructions: AVX2 FMA, in other operations, rebuild TensorFlow with the appropriate compiler flags.\n",
            "2024-05-28 03:22:20.576216: W tensorflow/compiler/tf2tensorrt/utils/py_utils.cc:38] TF-TRT Warning: Could not find TensorRT\n",
            "All model checkpoint layers were used when initializing TFGPT2LMHeadModel.\n",
            "\n",
            "All the layers of TFGPT2LMHeadModel were initialized from the model checkpoint at ./data/sampling500_song_emotion_chatbot.\n",
            "If your task is similar to the task the model of the checkpoint was trained on, you can already use TFGPT2LMHeadModel for predictions without further training.\n",
            "\n",
            "Question: 친구랑 싸워서 기분이 좋지 않아\n",
            "아\n",
            "response: 친구들과 다투셔서 기분이 안 좋으시군요. 어떻게 하면 좋을지 저와 얘기해 봐요.\n",
            "--------------------------------------------------\n",
            "\n",
            "Question: response: 친구에게 상처받은 심정을 말해서 기분이 풀렸으면 좋겠네요.\n",
            "--------------------------------------------------\n",
            "\n",
            "Question: 내가 먼저 미안하다고 사과해야 겠어.\n",
            "response: 친구와의 관계가 회복되면 좋겠다고 생각하시는군요.\n",
            "--------------------------------------------------\n",
            "\n",
            "Question: 다시 예전처럼 사이 좋게 지내고 싶어.\n",
            "response: 사이 좋은 관계를 유지하려면 어떻게 해야 할까요?\n",
            "--------------------------------------------------\n",
            "\n",
            "Question: 내가 먼저 다가가야 겠지.\n",
            "response: 여자친구와 함께하는 시간이 많이 편해지셨으면 좋겠어요.\n",
            "--------------------------------------------------\n",
            "\n",
            "Question: 고마워. 너와 얘기할 수 있어서 기뻐.\n",
            "response: 친구와의 일이 좋게 풀렸으면 좋겠네요.\n",
            "--------------------------------------------------\n",
            "\n",
            "Question: 종료\n",
            "료\n"
          ]
        }
      ],
      "source": [
        "!python kogpt_test.py"
      ]
    },
    {
      "cell_type": "code",
      "execution_count": null,
      "metadata": {
        "id": "RWeC_fwfLZpX"
      },
      "outputs": [],
      "source": []
    }
  ],
  "metadata": {
    "kernelspec": {
      "display_name": "Python 3",
      "language": "python",
      "name": "python3"
    },
    "language_info": {
      "codemirror_mode": {
        "name": "ipython",
        "version": 3
      },
      "file_extension": ".py",
      "mimetype": "text/x-python",
      "name": "python",
      "nbconvert_exporter": "python",
      "pygments_lexer": "ipython3",
      "version": "3.10.14"
    },
    "colab": {
      "provenance": []
    }
  },
  "nbformat": 4,
  "nbformat_minor": 0
}